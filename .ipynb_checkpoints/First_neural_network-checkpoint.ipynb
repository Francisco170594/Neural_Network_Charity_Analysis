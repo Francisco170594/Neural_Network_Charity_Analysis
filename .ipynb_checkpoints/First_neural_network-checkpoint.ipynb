{
 "cells": [
  {
   "cell_type": "code",
   "execution_count": 29,
   "id": "7cf0a621",
   "metadata": {},
   "outputs": [],
   "source": [
    "# Import our dependencies\n",
    "import pandas as pd\n",
    "import matplotlib as plt\n",
    "from sklearn.datasets import make_blobs\n",
    "import sklearn as skl\n",
    "import tensorflow as tf"
   ]
  },
  {
   "cell_type": "code",
   "execution_count": 30,
   "id": "012dda56",
   "metadata": {},
   "outputs": [
    {
     "data": {
      "text/plain": [
       "<AxesSubplot:xlabel='Feature 1', ylabel='Feature 2'>"
      ]
     },
     "execution_count": 30,
     "metadata": {},
     "output_type": "execute_result"
    },
    {
     "data": {
      "image/png": "[encoded data removed]",
      "text/plain": [
       "<Figure size 432x288 with 2 Axes>"
      ]
     },
     "metadata": {
      "needs_background": "light"
     },
     "output_type": "display_data"
    }
   ],
   "source": [
    "# Generate dummy dataset\n",
    "X, y = make_blobs(n_samples=1000, centers=2, n_features=2, random_state=78)\n",
    "\n",
    "# Creating a DataFrame with the dummy data\n",
    "df = pd.DataFrame(X, columns=[\"Feature 1\", \"Feature 2\"])\n",
    "df[\"Target\"] = y\n",
    "\n",
    "# Plotting the dummy data\n",
    "df.plot.scatter(x=\"Feature 1\", y=\"Feature 2\", c=\"Target\", colormap=\"winter\")"
   ]
  },
  {
   "cell_type": "code",
   "execution_count": 31,
   "id": "9ddaaa9a",
   "metadata": {},
   "outputs": [],
   "source": [
    "# Use sklearn to split dataset\n",
    "from sklearn.model_selection import train_test_split\n",
    "X_train, X_test, y_train, y_test = train_test_split(X, y, random_state=78)"
   ]
  },
  {
   "cell_type": "code",
   "execution_count": 32,
   "id": "2f8af7b3",
   "metadata": {},
   "outputs": [],
   "source": [
    "# Create scaler instance\n",
    "X_scaler = skl.preprocessing.StandardScaler()\n",
    "\n",
    "# Fit the scaler\n",
    "X_scaler.fit(X_train)\n",
    "\n",
    "# Scale the data\n",
    "X_train_scaled = X_scaler.transform(X_train)\n",
    "X_test_scaled = X_scaler.transform(X_test)"
   ]
  },
  {
   "cell_type": "code",
   "execution_count": 33,
   "id": "b14942e4",
   "metadata": {},
   "outputs": [],
   "source": [
    "# Create the Keras Sequential model\n",
    "nn_model = tf.keras.models.Sequential()"
   ]
  },
  {
   "cell_type": "code",
   "execution_count": 34,
   "id": "01123830",
   "metadata": {},
   "outputs": [],
   "source": [
    "# Add our first Dense layer, including the input layer\n",
    "nn_model.add(tf.keras.layers.Dense(units=1, activation=\"relu\", input_dim=2))"
   ]
  },
  {
   "cell_type": "code",
   "execution_count": 35,
   "id": "2539619a",
   "metadata": {},
   "outputs": [],
   "source": [
    "# Add the output layer that uses a probability activation function\n",
    "nn_model.add(tf.keras.layers.Dense(units=1, activation=\"sigmoid\"))"
   ]
  },
  {
   "cell_type": "code",
   "execution_count": 36,
   "id": "5c4046c8",
   "metadata": {},
   "outputs": [
    {
     "name": "stdout",
     "output_type": "stream",
     "text": [
      "Model: \"sequential_2\"\n",
      "_________________________________________________________________\n",
      "Layer (type)                 Output Shape              Param #   \n",
      "=================================================================\n",
      "dense_2 (Dense)              (None, 1)                 3         \n",
      "_________________________________________________________________\n",
      "dense_3 (Dense)              (None, 1)                 2         \n",
      "=================================================================\n",
      "Total params: 5\n",
      "Trainable params: 5\n",
      "Non-trainable params: 0\n",
      "_________________________________________________________________\n"
     ]
    }
   ],
   "source": [
    "# Check the structure of the Sequential model\n",
    "nn_model.summary()"
   ]
  },
  {
   "cell_type": "code",
   "execution_count": 37,
   "id": "9ad2ef05",
   "metadata": {},
   "outputs": [],
   "source": [
    "# Compile the Sequential model together and customize metrics\n",
    "nn_model.compile(loss=\"binary_crossentropy\", optimizer=\"adam\", metrics=[\"accuracy\"])"
   ]
  },
  {
   "cell_type": "code",
   "execution_count": 38,
   "id": "8bb2562b",
   "metadata": {},
   "outputs": [
    {
     "name": "stdout",
     "output_type": "stream",
     "text": [
      "Epoch 1/100\n",
      "24/24 [==============================] - 0s 1ms/step - loss: 0.7751 - accuracy: 0.3547\n",
      "Epoch 2/100\n",
      "24/24 [==============================] - 0s 1ms/step - loss: 0.7635 - accuracy: 0.1547\n",
      "Epoch 3/100\n",
      "24/24 [==============================] - 0s 2ms/step - loss: 0.7537 - accuracy: 0.1613\n",
      "Epoch 4/100\n",
      "24/24 [==============================] - 0s 2ms/step - loss: 0.7449 - accuracy: 0.1707\n",
      "Epoch 5/100\n",
      "24/24 [==============================] - 0s 1ms/step - loss: 0.7377 - accuracy: 0.1800\n",
      "Epoch 6/100\n",
      "24/24 [==============================] - 0s 1ms/step - loss: 0.7312 - accuracy: 0.1960\n",
      "Epoch 7/100\n",
      "24/24 [==============================] - 0s 1ms/step - loss: 0.7257 - accuracy: 0.2027\n",
      "Epoch 8/100\n",
      "24/24 [==============================] - 0s 2ms/step - loss: 0.7210 - accuracy: 0.2160\n",
      "Epoch 9/100\n",
      "24/24 [==============================] - 0s 1ms/step - loss: 0.7169 - accuracy: 0.2280\n",
      "Epoch 10/100\n",
      "24/24 [==============================] - 0s 2ms/step - loss: 0.7132 - accuracy: 0.2333\n",
      "Epoch 11/100\n",
      "24/24 [==============================] - 0s 1ms/step - loss: 0.7101 - accuracy: 0.2373\n",
      "Epoch 12/100\n",
      "24/24 [==============================] - 0s 2ms/step - loss: 0.7073 - accuracy: 0.2440\n",
      "Epoch 13/100\n",
      "24/24 [==============================] - 0s 1ms/step - loss: 0.7049 - accuracy: 0.2493\n",
      "Epoch 14/100\n",
      "24/24 [==============================] - 0s 1ms/step - loss: 0.7027 - accuracy: 0.2587\n",
      "Epoch 15/100\n",
      "24/24 [==============================] - 0s 2ms/step - loss: 0.7007 - accuracy: 0.2720\n",
      "Epoch 16/100\n",
      "24/24 [==============================] - 0s 1ms/step - loss: 0.6990 - accuracy: 0.2880\n",
      "Epoch 17/100\n",
      "24/24 [==============================] - 0s 1ms/step - loss: 0.6974 - accuracy: 0.3347\n",
      "Epoch 18/100\n",
      "24/24 [==============================] - 0s 2ms/step - loss: 0.6960 - accuracy: 0.3880\n",
      "Epoch 19/100\n",
      "24/24 [==============================] - 0s 1ms/step - loss: 0.6945 - accuracy: 0.4653\n",
      "Epoch 20/100\n",
      "24/24 [==============================] - 0s 1ms/step - loss: 0.6931 - accuracy: 0.4933\n",
      "Epoch 21/100\n",
      "24/24 [==============================] - 0s 1ms/step - loss: 0.6917 - accuracy: 0.4933\n",
      "Epoch 22/100\n",
      "24/24 [==============================] - 0s 1ms/step - loss: 0.6903 - accuracy: 0.4933\n",
      "Epoch 23/100\n",
      "24/24 [==============================] - 0s 1ms/step - loss: 0.6887 - accuracy: 0.4933\n",
      "Epoch 24/100\n",
      "24/24 [==============================] - 0s 1ms/step - loss: 0.6871 - accuracy: 0.4933\n",
      "Epoch 25/100\n",
      "24/24 [==============================] - 0s 1ms/step - loss: 0.6853 - accuracy: 0.4933\n",
      "Epoch 26/100\n",
      "24/24 [==============================] - 0s 1ms/step - loss: 0.6832 - accuracy: 0.7040\n",
      "Epoch 27/100\n",
      "24/24 [==============================] - 0s 2ms/step - loss: 0.6808 - accuracy: 0.7640\n",
      "Epoch 28/100\n",
      "24/24 [==============================] - 0s 1ms/step - loss: 0.6779 - accuracy: 0.7733\n",
      "Epoch 29/100\n",
      "24/24 [==============================] - 0s 1ms/step - loss: 0.6745 - accuracy: 0.7800\n",
      "Epoch 30/100\n",
      "24/24 [==============================] - 0s 1ms/step - loss: 0.6704 - accuracy: 0.7920\n",
      "Epoch 31/100\n",
      "24/24 [==============================] - 0s 1ms/step - loss: 0.6656 - accuracy: 0.8067\n",
      "Epoch 32/100\n",
      "24/24 [==============================] - 0s 1ms/step - loss: 0.6597 - accuracy: 0.8160\n",
      "Epoch 33/100\n",
      "24/24 [==============================] - 0s 2ms/step - loss: 0.6527 - accuracy: 0.8293\n",
      "Epoch 34/100\n",
      "24/24 [==============================] - 0s 1ms/step - loss: 0.6445 - accuracy: 0.8333\n",
      "Epoch 35/100\n",
      "24/24 [==============================] - 0s 1ms/step - loss: 0.6352 - accuracy: 0.8493\n",
      "Epoch 36/100\n",
      "24/24 [==============================] - 0s 1ms/step - loss: 0.6245 - accuracy: 0.8600\n",
      "Epoch 37/100\n",
      "24/24 [==============================] - 0s 2ms/step - loss: 0.6125 - accuracy: 0.8667\n",
      "Epoch 38/100\n",
      "24/24 [==============================] - 0s 1ms/step - loss: 0.5996 - accuracy: 0.8813\n",
      "Epoch 39/100\n",
      "24/24 [==============================] - 0s 1ms/step - loss: 0.5857 - accuracy: 0.8893\n",
      "Epoch 40/100\n",
      "24/24 [==============================] - 0s 1ms/step - loss: 0.5711 - accuracy: 0.9000\n",
      "Epoch 41/100\n",
      "24/24 [==============================] - 0s 2ms/step - loss: 0.5558 - accuracy: 0.9040\n",
      "Epoch 42/100\n",
      "24/24 [==============================] - 0s 2ms/step - loss: 0.5406 - accuracy: 0.9120\n",
      "Epoch 43/100\n",
      "24/24 [==============================] - 0s 1ms/step - loss: 0.5253 - accuracy: 0.9200\n",
      "Epoch 44/100\n",
      "24/24 [==============================] - 0s 1ms/step - loss: 0.5101 - accuracy: 0.9267\n",
      "Epoch 45/100\n",
      "24/24 [==============================] - 0s 1ms/step - loss: 0.4954 - accuracy: 0.9333\n",
      "Epoch 46/100\n",
      "24/24 [==============================] - 0s 1ms/step - loss: 0.4807 - accuracy: 0.9400\n",
      "Epoch 47/100\n",
      "24/24 [==============================] - 0s 2ms/step - loss: 0.4665 - accuracy: 0.9427\n",
      "Epoch 48/100\n",
      "24/24 [==============================] - 0s 1ms/step - loss: 0.4529 - accuracy: 0.9440\n",
      "Epoch 49/100\n",
      "24/24 [==============================] - 0s 1ms/step - loss: 0.4396 - accuracy: 0.9480\n",
      "Epoch 50/100\n",
      "24/24 [==============================] - 0s 2ms/step - loss: 0.4267 - accuracy: 0.9507\n",
      "Epoch 51/100\n",
      "24/24 [==============================] - 0s 1ms/step - loss: 0.4143 - accuracy: 0.9520\n",
      "Epoch 52/100\n",
      "24/24 [==============================] - 0s 1ms/step - loss: 0.4024 - accuracy: 0.9533\n",
      "Epoch 53/100\n",
      "24/24 [==============================] - 0s 2ms/step - loss: 0.3909 - accuracy: 0.9547\n",
      "Epoch 54/100\n",
      "24/24 [==============================] - 0s 1ms/step - loss: 0.3799 - accuracy: 0.9573\n",
      "Epoch 55/100\n",
      "24/24 [==============================] - 0s 2ms/step - loss: 0.3694 - accuracy: 0.9627\n",
      "Epoch 56/100\n",
      "24/24 [==============================] - 0s 2ms/step - loss: 0.3592 - accuracy: 0.9627\n",
      "Epoch 57/100\n",
      "24/24 [==============================] - 0s 2ms/step - loss: 0.3495 - accuracy: 0.9640\n",
      "Epoch 58/100\n",
      "24/24 [==============================] - 0s 1ms/step - loss: 0.3401 - accuracy: 0.9667\n",
      "Epoch 59/100\n",
      "24/24 [==============================] - 0s 2ms/step - loss: 0.3312 - accuracy: 0.9667\n",
      "Epoch 60/100\n",
      "24/24 [==============================] - 0s 1ms/step - loss: 0.3226 - accuracy: 0.9693\n",
      "Epoch 61/100\n",
      "24/24 [==============================] - 0s 2ms/step - loss: 0.3143 - accuracy: 0.9707\n",
      "Epoch 62/100\n",
      "24/24 [==============================] - 0s 1ms/step - loss: 0.3063 - accuracy: 0.9707\n",
      "Epoch 63/100\n",
      "24/24 [==============================] - 0s 1ms/step - loss: 0.2987 - accuracy: 0.9733\n",
      "Epoch 64/100\n",
      "24/24 [==============================] - 0s 1ms/step - loss: 0.2913 - accuracy: 0.9760\n",
      "Epoch 65/100\n",
      "24/24 [==============================] - 0s 1ms/step - loss: 0.2842 - accuracy: 0.9773\n",
      "Epoch 66/100\n",
      "24/24 [==============================] - 0s 2ms/step - loss: 0.2772 - accuracy: 0.9800\n",
      "Epoch 67/100\n",
      "24/24 [==============================] - 0s 2ms/step - loss: 0.2705 - accuracy: 0.9813\n",
      "Epoch 68/100\n",
      "24/24 [==============================] - 0s 2ms/step - loss: 0.2639 - accuracy: 0.9813\n",
      "Epoch 69/100\n",
      "24/24 [==============================] - 0s 1ms/step - loss: 0.2576 - accuracy: 0.9813\n",
      "Epoch 70/100\n",
      "24/24 [==============================] - 0s 1ms/step - loss: 0.2515 - accuracy: 0.9813\n",
      "Epoch 71/100\n",
      "24/24 [==============================] - 0s 1ms/step - loss: 0.2456 - accuracy: 0.9813\n",
      "Epoch 72/100\n",
      "24/24 [==============================] - 0s 1ms/step - loss: 0.2398 - accuracy: 0.9827\n",
      "Epoch 73/100\n",
      "24/24 [==============================] - 0s 1ms/step - loss: 0.2343 - accuracy: 0.9853\n",
      "Epoch 74/100\n",
      "24/24 [==============================] - 0s 997us/step - loss: 0.2289 - accuracy: 0.9853\n",
      "Epoch 75/100\n",
      "24/24 [==============================] - 0s 1ms/step - loss: 0.2236 - accuracy: 0.9853\n",
      "Epoch 76/100\n",
      "24/24 [==============================] - 0s 1ms/step - loss: 0.2184 - accuracy: 0.9853\n",
      "Epoch 77/100\n",
      "24/24 [==============================] - 0s 1ms/step - loss: 0.2135 - accuracy: 0.9853\n",
      "Epoch 78/100\n",
      "24/24 [==============================] - 0s 2ms/step - loss: 0.2086 - accuracy: 0.9867\n",
      "Epoch 79/100\n",
      "24/24 [==============================] - 0s 2ms/step - loss: 0.2039 - accuracy: 0.9867\n",
      "Epoch 80/100\n",
      "24/24 [==============================] - 0s 2ms/step - loss: 0.1994 - accuracy: 0.9867\n",
      "Epoch 81/100\n",
      "24/24 [==============================] - 0s 2ms/step - loss: 0.1950 - accuracy: 0.9880\n",
      "Epoch 82/100\n",
      "24/24 [==============================] - 0s 1ms/step - loss: 0.1907 - accuracy: 0.9880\n"
     ]
    },
    {
     "name": "stdout",
     "output_type": "stream",
     "text": [
      "Epoch 83/100\n",
      "24/24 [==============================] - 0s 1ms/step - loss: 0.1866 - accuracy: 0.9880\n",
      "Epoch 84/100\n",
      "24/24 [==============================] - 0s 1ms/step - loss: 0.1825 - accuracy: 0.9880\n",
      "Epoch 85/100\n",
      "24/24 [==============================] - 0s 1ms/step - loss: 0.1786 - accuracy: 0.9880\n",
      "Epoch 86/100\n",
      "24/24 [==============================] - 0s 1ms/step - loss: 0.1748 - accuracy: 0.9880\n",
      "Epoch 87/100\n",
      "24/24 [==============================] - 0s 1ms/step - loss: 0.1710 - accuracy: 0.9907\n",
      "Epoch 88/100\n",
      "24/24 [==============================] - 0s 1ms/step - loss: 0.1674 - accuracy: 0.9907\n",
      "Epoch 89/100\n",
      "24/24 [==============================] - 0s 1ms/step - loss: 0.1639 - accuracy: 0.9920\n",
      "Epoch 90/100\n",
      "24/24 [==============================] - 0s 1ms/step - loss: 0.1605 - accuracy: 0.9920\n",
      "Epoch 91/100\n",
      "24/24 [==============================] - 0s 997us/step - loss: 0.1572 - accuracy: 0.9920\n",
      "Epoch 92/100\n",
      "24/24 [==============================] - 0s 1ms/step - loss: 0.1540 - accuracy: 0.9920\n",
      "Epoch 93/100\n",
      "24/24 [==============================] - 0s 1ms/step - loss: 0.1508 - accuracy: 0.9920\n",
      "Epoch 94/100\n",
      "24/24 [==============================] - 0s 1ms/step - loss: 0.1478 - accuracy: 0.9920\n",
      "Epoch 95/100\n",
      "24/24 [==============================] - 0s 1ms/step - loss: 0.1449 - accuracy: 0.9920\n",
      "Epoch 96/100\n",
      "24/24 [==============================] - 0s 2ms/step - loss: 0.1419 - accuracy: 0.9933\n",
      "Epoch 97/100\n",
      "24/24 [==============================] - 0s 1ms/step - loss: 0.1392 - accuracy: 0.9947\n",
      "Epoch 98/100\n",
      "24/24 [==============================] - 0s 1ms/step - loss: 0.1364 - accuracy: 0.9947\n",
      "Epoch 99/100\n",
      "24/24 [==============================] - 0s 1ms/step - loss: 0.1338 - accuracy: 0.9947\n",
      "Epoch 100/100\n",
      "24/24 [==============================] - 0s 1ms/step - loss: 0.1312 - accuracy: 0.9960\n"
     ]
    }
   ],
   "source": [
    "# Fit the model to the training data\n",
    "fit_model = nn_model.fit(X_train_scaled, y_train, epochs=100)"
   ]
  },
  {
   "cell_type": "code",
   "execution_count": 39,
   "id": "7a204b81",
   "metadata": {},
   "outputs": [
    {
     "data": {
      "text/plain": [
       "<AxesSubplot:>"
      ]
     },
     "execution_count": 39,
     "metadata": {},
     "output_type": "execute_result"
    },
    {
     "data": {
      "image/png": "[encoded data removed]",
      "text/plain": [
       "<Figure size 432x288 with 1 Axes>"
      ]
     },
     "metadata": {
      "needs_background": "light"
     },
     "output_type": "display_data"
    }
   ],
   "source": [
    "# Create a DataFrame containing training history\n",
    "history_df = pd.DataFrame(fit_model.history, index=range(1,len(fit_model.history[\"loss\"])+1))\n",
    "\n",
    "# Plot the loss\n",
    "history_df.plot(y=\"loss\")"
   ]
  },
  {
   "cell_type": "code",
   "execution_count": 40,
   "id": "31e7b0b7",
   "metadata": {},
   "outputs": [
    {
     "data": {
      "text/plain": [
       "<AxesSubplot:>"
      ]
     },
     "execution_count": 40,
     "metadata": {},
     "output_type": "execute_result"
    },
    {
     "data": {
      "image/png": "[encoded data removed]",
      "text/plain": [
       "<Figure size 432x288 with 1 Axes>"
      ]
     },
     "metadata": {
      "needs_background": "light"
     },
     "output_type": "display_data"
    }
   ],
   "source": [
    "# Plot the accuracy\n",
    "history_df.plot(y=\"accuracy\")"
   ]
  },
  {
   "cell_type": "code",
   "execution_count": 41,
   "id": "d064e2ce",
   "metadata": {},
   "outputs": [
    {
     "name": "stdout",
     "output_type": "stream",
     "text": [
      "8/8 - 0s - loss: 0.1215 - accuracy: 1.0000\n",
      "Loss: 0.12152049690485, Accuracy: 1.0\n"
     ]
    }
   ],
   "source": [
    "# Evaluate the model using the test data\n",
    "model_loss, model_accuracy = nn_model.evaluate(X_test_scaled,y_test,verbose=2)\n",
    "print(f\"Loss: {model_loss}, Accuracy: {model_accuracy}\")"
   ]
  },
  {
   "cell_type": "code",
   "execution_count": 42,
   "id": "5a01ad22",
   "metadata": {},
   "outputs": [
    {
     "data": {
      "text/plain": [
       "array([[0],\n",
       "       [1],\n",
       "       [0],\n",
       "       [1],\n",
       "       [0],\n",
       "       [0],\n",
       "       [1],\n",
       "       [1],\n",
       "       [1],\n",
       "       [0]])"
      ]
     },
     "execution_count": 42,
     "metadata": {},
     "output_type": "execute_result"
    }
   ],
   "source": [
    "# Predict the classification of a new set of blob data\n",
    "new_X, new_Y = make_blobs(n_samples=10, centers=2, n_features=2, random_state=78)\n",
    "new_X_scaled = X_scaler.transform(new_X)\n",
    "(nn_model.predict(new_X_scaled) > 0.5).astype(\"int32\")"
   ]
  },
  {
   "cell_type": "code",
   "execution_count": 43,
   "id": "9f2d53f2",
   "metadata": {},
   "outputs": [
    {
     "data": {
      "text/plain": [
       "<AxesSubplot:xlabel='Feature 1', ylabel='Feature 2'>"
      ]
     },
     "execution_count": 43,
     "metadata": {},
     "output_type": "execute_result"
    },
    {
     "data": {
      "image/png": "[encoded data removed]",
      "text/plain": [
       "<Figure size 432x288 with 2 Axes>"
      ]
     },
     "metadata": {
      "needs_background": "light"
     },
     "output_type": "display_data"
    }
   ],
   "source": [
    "from sklearn.datasets import make_moons\n",
    "\n",
    "# Creating dummy nonlinear data\n",
    "X_moons, y_moons = make_moons(n_samples=1000, noise=0.08, random_state=78)\n",
    "\n",
    "# Transforming y_moons to a vertical vector\n",
    "y_moons = y_moons.reshape(-1, 1)\n",
    "\n",
    "# Creating a DataFrame to plot the nonlinear dummy data\n",
    "df_moons = pd.DataFrame(X_moons, columns=[\"Feature 1\", \"Feature 2\"])\n",
    "df_moons[\"Target\"] = y_moons\n",
    "\n",
    "# Plot the nonlinear dummy data\n",
    "df_moons.plot.scatter(x=\"Feature 1\",y=\"Feature 2\", c=\"Target\",colormap=\"winter\")"
   ]
  },
  {
   "cell_type": "code",
   "execution_count": 46,
   "id": "c441c994",
   "metadata": {},
   "outputs": [],
   "source": [
    "# Create training and testing sets\n",
    "X_moon_train, X_moon_test, y_moon_train, y_moon_test = train_test_split(\n",
    "    X_moons, y_moons, random_state=78\n",
    ")\n",
    "\n",
    "# Create the scaler instance\n",
    "X_moon_scaler = skl.preprocessing.StandardScaler()\n",
    "\n",
    "# Fit the scaler\n",
    "X_moon_scaler.fit(X_moon_train)\n",
    "\n",
    "# Scale the data\n",
    "X_moon_train_scaled = X_moon_scaler.transform(X_moon_train)\n",
    "X_moon_test_scaled = X_moon_scaler.transform(X_moon_test)"
   ]
  },
  {
   "cell_type": "code",
   "execution_count": 47,
   "id": "806ea736",
   "metadata": {},
   "outputs": [
    {
     "name": "stdout",
     "output_type": "stream",
     "text": [
      "Epoch 1/100\n",
      "24/24 [==============================] - 0s 2ms/step - loss: 0.4066 - accuracy: 0.8067\n",
      "Epoch 2/100\n",
      "24/24 [==============================] - 0s 2ms/step - loss: 0.4035 - accuracy: 0.8093\n",
      "Epoch 3/100\n",
      "24/24 [==============================] - 0s 3ms/step - loss: 0.4003 - accuracy: 0.8107\n",
      "Epoch 4/100\n",
      "24/24 [==============================] - 0s 2ms/step - loss: 0.3971 - accuracy: 0.8120\n",
      "Epoch 5/100\n",
      "24/24 [==============================] - 0s 2ms/step - loss: 0.3940 - accuracy: 0.8133\n",
      "Epoch 6/100\n",
      "24/24 [==============================] - 0s 2ms/step - loss: 0.3909 - accuracy: 0.8133\n",
      "Epoch 7/100\n",
      "24/24 [==============================] - 0s 2ms/step - loss: 0.3879 - accuracy: 0.8173\n",
      "Epoch 8/100\n",
      "24/24 [==============================] - 0s 2ms/step - loss: 0.3847 - accuracy: 0.8187\n",
      "Epoch 9/100\n",
      "24/24 [==============================] - 0s 2ms/step - loss: 0.3817 - accuracy: 0.8200\n",
      "Epoch 10/100\n",
      "24/24 [==============================] - 0s 2ms/step - loss: 0.3787 - accuracy: 0.8213\n",
      "Epoch 11/100\n",
      "24/24 [==============================] - 0s 2ms/step - loss: 0.3754 - accuracy: 0.8240\n",
      "Epoch 12/100\n",
      "24/24 [==============================] - 0s 2ms/step - loss: 0.3723 - accuracy: 0.8253\n",
      "Epoch 13/100\n",
      "24/24 [==============================] - 0s 2ms/step - loss: 0.3691 - accuracy: 0.8267\n",
      "Epoch 14/100\n",
      "24/24 [==============================] - 0s 2ms/step - loss: 0.3659 - accuracy: 0.8267\n",
      "Epoch 15/100\n",
      "24/24 [==============================] - 0s 3ms/step - loss: 0.3629 - accuracy: 0.8280\n",
      "Epoch 16/100\n",
      "24/24 [==============================] - 0s 3ms/step - loss: 0.3598 - accuracy: 0.8307\n",
      "Epoch 17/100\n",
      "24/24 [==============================] - 0s 2ms/step - loss: 0.3569 - accuracy: 0.8307\n",
      "Epoch 18/100\n",
      "24/24 [==============================] - 0s 3ms/step - loss: 0.3539 - accuracy: 0.8307\n",
      "Epoch 19/100\n",
      "24/24 [==============================] - 0s 2ms/step - loss: 0.3509 - accuracy: 0.8333\n",
      "Epoch 20/100\n",
      "24/24 [==============================] - 0s 2ms/step - loss: 0.3479 - accuracy: 0.8373\n",
      "Epoch 21/100\n",
      "24/24 [==============================] - 0s 2ms/step - loss: 0.3450 - accuracy: 0.8387\n",
      "Epoch 22/100\n",
      "24/24 [==============================] - 0s 2ms/step - loss: 0.3422 - accuracy: 0.8400\n",
      "Epoch 23/100\n",
      "24/24 [==============================] - 0s 3ms/step - loss: 0.3393 - accuracy: 0.8413\n",
      "Epoch 24/100\n",
      "24/24 [==============================] - 0s 2ms/step - loss: 0.3366 - accuracy: 0.8427\n",
      "Epoch 25/100\n",
      "24/24 [==============================] - 0s 2ms/step - loss: 0.3339 - accuracy: 0.8427\n",
      "Epoch 26/100\n",
      "24/24 [==============================] - 0s 2ms/step - loss: 0.3312 - accuracy: 0.8480\n",
      "Epoch 27/100\n",
      "24/24 [==============================] - 0s 2ms/step - loss: 0.3284 - accuracy: 0.8507\n",
      "Epoch 28/100\n",
      "24/24 [==============================] - 0s 2ms/step - loss: 0.3257 - accuracy: 0.8507\n",
      "Epoch 29/100\n",
      "24/24 [==============================] - 0s 3ms/step - loss: 0.3232 - accuracy: 0.8520\n",
      "Epoch 30/100\n",
      "24/24 [==============================] - 0s 3ms/step - loss: 0.3206 - accuracy: 0.8520\n",
      "Epoch 31/100\n",
      "24/24 [==============================] - 0s 2ms/step - loss: 0.3183 - accuracy: 0.8533\n",
      "Epoch 32/100\n",
      "24/24 [==============================] - 0s 2ms/step - loss: 0.3158 - accuracy: 0.8547\n",
      "Epoch 33/100\n",
      "24/24 [==============================] - 0s 3ms/step - loss: 0.3135 - accuracy: 0.8587\n",
      "Epoch 34/100\n",
      "24/24 [==============================] - 0s 2ms/step - loss: 0.3111 - accuracy: 0.8600\n",
      "Epoch 35/100\n",
      "24/24 [==============================] - 0s 2ms/step - loss: 0.3090 - accuracy: 0.8640\n",
      "Epoch 36/100\n",
      "24/24 [==============================] - 0s 3ms/step - loss: 0.3070 - accuracy: 0.8693\n",
      "Epoch 37/100\n",
      "24/24 [==============================] - 0s 3ms/step - loss: 0.3051 - accuracy: 0.8693\n",
      "Epoch 38/100\n",
      "24/24 [==============================] - 0s 3ms/step - loss: 0.3031 - accuracy: 0.8720\n",
      "Epoch 39/100\n",
      "24/24 [==============================] - 0s 3ms/step - loss: 0.3013 - accuracy: 0.8720\n",
      "Epoch 40/100\n",
      "24/24 [==============================] - 0s 3ms/step - loss: 0.2996 - accuracy: 0.8733\n",
      "Epoch 41/100\n",
      "24/24 [==============================] - 0s 2ms/step - loss: 0.2980 - accuracy: 0.8760\n",
      "Epoch 42/100\n",
      "24/24 [==============================] - 0s 2ms/step - loss: 0.2964 - accuracy: 0.8760\n",
      "Epoch 43/100\n",
      "24/24 [==============================] - 0s 3ms/step - loss: 0.2950 - accuracy: 0.8787\n",
      "Epoch 44/100\n",
      "24/24 [==============================] - 0s 2ms/step - loss: 0.2936 - accuracy: 0.8800\n",
      "Epoch 45/100\n",
      "24/24 [==============================] - 0s 3ms/step - loss: 0.2924 - accuracy: 0.8813\n",
      "Epoch 46/100\n",
      "24/24 [==============================] - 0s 3ms/step - loss: 0.2911 - accuracy: 0.8853\n",
      "Epoch 47/100\n",
      "24/24 [==============================] - 0s 3ms/step - loss: 0.2899 - accuracy: 0.8853\n",
      "Epoch 48/100\n",
      "24/24 [==============================] - 0s 2ms/step - loss: 0.2888 - accuracy: 0.8853\n",
      "Epoch 49/100\n",
      "24/24 [==============================] - 0s 2ms/step - loss: 0.2877 - accuracy: 0.8853\n",
      "Epoch 50/100\n",
      "24/24 [==============================] - 0s 2ms/step - loss: 0.2866 - accuracy: 0.8867\n",
      "Epoch 51/100\n",
      "24/24 [==============================] - 0s 3ms/step - loss: 0.2857 - accuracy: 0.8880\n",
      "Epoch 52/100\n",
      "24/24 [==============================] - 0s 3ms/step - loss: 0.2848 - accuracy: 0.8880\n",
      "Epoch 53/100\n",
      "24/24 [==============================] - 0s 2ms/step - loss: 0.2839 - accuracy: 0.8907\n",
      "Epoch 54/100\n",
      "24/24 [==============================] - 0s 2ms/step - loss: 0.2831 - accuracy: 0.8920\n",
      "Epoch 55/100\n",
      "24/24 [==============================] - 0s 2ms/step - loss: 0.2823 - accuracy: 0.8920\n",
      "Epoch 56/100\n",
      "24/24 [==============================] - 0s 2ms/step - loss: 0.2814 - accuracy: 0.8920\n",
      "Epoch 57/100\n",
      "24/24 [==============================] - 0s 2ms/step - loss: 0.2807 - accuracy: 0.8920\n",
      "Epoch 58/100\n",
      "24/24 [==============================] - 0s 2ms/step - loss: 0.2799 - accuracy: 0.8920\n",
      "Epoch 59/100\n",
      "24/24 [==============================] - 0s 2ms/step - loss: 0.2792 - accuracy: 0.8920\n",
      "Epoch 60/100\n",
      "24/24 [==============================] - 0s 2ms/step - loss: 0.2785 - accuracy: 0.8933\n",
      "Epoch 61/100\n",
      "24/24 [==============================] - 0s 2ms/step - loss: 0.2778 - accuracy: 0.8933\n",
      "Epoch 62/100\n",
      "24/24 [==============================] - 0s 2ms/step - loss: 0.2772 - accuracy: 0.8933\n",
      "Epoch 63/100\n",
      "24/24 [==============================] - 0s 2ms/step - loss: 0.2766 - accuracy: 0.8933\n",
      "Epoch 64/100\n",
      "24/24 [==============================] - 0s 2ms/step - loss: 0.2760 - accuracy: 0.8933\n",
      "Epoch 65/100\n",
      "24/24 [==============================] - 0s 2ms/step - loss: 0.2754 - accuracy: 0.8920\n",
      "Epoch 66/100\n",
      "24/24 [==============================] - 0s 2ms/step - loss: 0.2750 - accuracy: 0.8920\n",
      "Epoch 67/100\n",
      "24/24 [==============================] - 0s 3ms/step - loss: 0.2743 - accuracy: 0.8920\n",
      "Epoch 68/100\n",
      "24/24 [==============================] - 0s 3ms/step - loss: 0.2737 - accuracy: 0.8920\n",
      "Epoch 69/100\n",
      "24/24 [==============================] - 0s 3ms/step - loss: 0.2732 - accuracy: 0.8907\n",
      "Epoch 70/100\n",
      "24/24 [==============================] - 0s 3ms/step - loss: 0.2727 - accuracy: 0.8907\n",
      "Epoch 71/100\n",
      "24/24 [==============================] - 0s 2ms/step - loss: 0.2723 - accuracy: 0.8907\n",
      "Epoch 72/100\n",
      "24/24 [==============================] - 0s 2ms/step - loss: 0.2718 - accuracy: 0.8907\n",
      "Epoch 73/100\n",
      "24/24 [==============================] - 0s 2ms/step - loss: 0.2713 - accuracy: 0.8907\n",
      "Epoch 74/100\n",
      "24/24 [==============================] - 0s 3ms/step - loss: 0.2709 - accuracy: 0.8920\n",
      "Epoch 75/100\n",
      "24/24 [==============================] - 0s 3ms/step - loss: 0.2705 - accuracy: 0.8920\n",
      "Epoch 76/100\n",
      "24/24 [==============================] - 0s 2ms/step - loss: 0.2700 - accuracy: 0.8920\n",
      "Epoch 77/100\n",
      "24/24 [==============================] - 0s 2ms/step - loss: 0.2697 - accuracy: 0.8920\n",
      "Epoch 78/100\n",
      "24/24 [==============================] - 0s 2ms/step - loss: 0.2693 - accuracy: 0.8920\n",
      "Epoch 79/100\n",
      "24/24 [==============================] - 0s 3ms/step - loss: 0.2689 - accuracy: 0.8920\n",
      "Epoch 80/100\n",
      "24/24 [==============================] - 0s 2ms/step - loss: 0.2685 - accuracy: 0.8920\n",
      "Epoch 81/100\n",
      "24/24 [==============================] - 0s 2ms/step - loss: 0.2682 - accuracy: 0.8920\n",
      "Epoch 82/100\n",
      "24/24 [==============================] - 0s 2ms/step - loss: 0.2679 - accuracy: 0.8920\n",
      "Epoch 83/100\n"
     ]
    },
    {
     "name": "stdout",
     "output_type": "stream",
     "text": [
      "24/24 [==============================] - 0s 2ms/step - loss: 0.2675 - accuracy: 0.8920\n",
      "Epoch 84/100\n",
      "24/24 [==============================] - 0s 2ms/step - loss: 0.2671 - accuracy: 0.8920\n",
      "Epoch 85/100\n",
      "24/24 [==============================] - 0s 2ms/step - loss: 0.2668 - accuracy: 0.8920\n",
      "Epoch 86/100\n",
      "24/24 [==============================] - 0s 2ms/step - loss: 0.2664 - accuracy: 0.8920\n",
      "Epoch 87/100\n",
      "24/24 [==============================] - 0s 2ms/step - loss: 0.2661 - accuracy: 0.8920\n",
      "Epoch 88/100\n",
      "24/24 [==============================] - 0s 2ms/step - loss: 0.2658 - accuracy: 0.8920\n",
      "Epoch 89/100\n",
      "24/24 [==============================] - 0s 2ms/step - loss: 0.2656 - accuracy: 0.8920\n",
      "Epoch 90/100\n",
      "24/24 [==============================] - 0s 2ms/step - loss: 0.2653 - accuracy: 0.8920\n",
      "Epoch 91/100\n",
      "24/24 [==============================] - 0s 3ms/step - loss: 0.2650 - accuracy: 0.8920\n",
      "Epoch 92/100\n",
      "24/24 [==============================] - 0s 2ms/step - loss: 0.2647 - accuracy: 0.8920\n",
      "Epoch 93/100\n",
      "24/24 [==============================] - 0s 2ms/step - loss: 0.2644 - accuracy: 0.8920\n",
      "Epoch 94/100\n",
      "24/24 [==============================] - 0s 2ms/step - loss: 0.2642 - accuracy: 0.8920\n",
      "Epoch 95/100\n",
      "24/24 [==============================] - 0s 2ms/step - loss: 0.2638 - accuracy: 0.8920\n",
      "Epoch 96/100\n",
      "24/24 [==============================] - 0s 2ms/step - loss: 0.2636 - accuracy: 0.8920\n",
      "Epoch 97/100\n",
      "24/24 [==============================] - 0s 2ms/step - loss: 0.2634 - accuracy: 0.8920\n",
      "Epoch 98/100\n",
      "24/24 [==============================] - 0s 2ms/step - loss: 0.2631 - accuracy: 0.8920\n",
      "Epoch 99/100\n",
      "24/24 [==============================] - 0s 2ms/step - loss: 0.2629 - accuracy: 0.8920\n",
      "Epoch 100/100\n",
      "24/24 [==============================] - 0s 2ms/step - loss: 0.2626 - accuracy: 0.8920\n"
     ]
    }
   ],
   "source": [
    "# Training the model with the nonlinear data\n",
    "model_moon = nn_model.fit(X_moon_train_scaled, y_moon_train, epochs=100, shuffle=True)"
   ]
  },
  {
   "cell_type": "code",
   "execution_count": 48,
   "id": "998651ef",
   "metadata": {},
   "outputs": [
    {
     "data": {
      "text/plain": [
       "<AxesSubplot:>"
      ]
     },
     "execution_count": 48,
     "metadata": {},
     "output_type": "execute_result"
    },
    {
     "data": {
      "image/png": "[encoded data removed]",
      "text/plain": [
       "<Figure size 432x288 with 1 Axes>"
      ]
     },
     "metadata": {
      "needs_background": "light"
     },
     "output_type": "display_data"
    }
   ],
   "source": [
    "# Create a DataFrame containing training history\n",
    "history_df = pd.DataFrame(model_moon.history, index=range(1,len(model_moon.history[\"loss\"])+1))\n",
    "\n",
    "# Plot the loss\n",
    "history_df.plot(y=\"loss\")"
   ]
  },
  {
   "cell_type": "code",
   "execution_count": 49,
   "id": "5d1059cf",
   "metadata": {},
   "outputs": [
    {
     "data": {
      "text/plain": [
       "<AxesSubplot:>"
      ]
     },
     "execution_count": 49,
     "metadata": {},
     "output_type": "execute_result"
    },
    {
     "data": {
      "image/png": "[encoded data removed]",
      "text/plain": [
       "<Figure size 432x288 with 1 Axes>"
      ]
     },
     "metadata": {
      "needs_background": "light"
     },
     "output_type": "display_data"
    }
   ],
   "source": [
    "# Plot the accuracy\n",
    "history_df.plot(y=\"accuracy\")"
   ]
  },
  {
   "cell_type": "code",
   "execution_count": 50,
   "id": "44aab99f",
   "metadata": {},
   "outputs": [],
   "source": [
    "# Generate our new Sequential model\n",
    "new_model = tf.keras.models.Sequential()"
   ]
  },
  {
   "cell_type": "code",
   "execution_count": 98,
   "id": "8337292b",
   "metadata": {},
   "outputs": [],
   "source": [
    "# Add the input and hidden layer\n",
    "number_inputs = 2\n",
    "number_hidden_nodes = 8\n",
    "\n",
    "new_model.add(tf.keras.layers.Dense(units=number_hidden_nodes, activation=\"relu\", input_dim=number_inputs))\n",
    "\n",
    "# Add the output layer that uses a probability activation function\n",
    "new_model.add(tf.keras.layers.Dense(units=1, activation=\"sigmoid\"))"
   ]
  },
  {
   "cell_type": "code",
   "execution_count": 100,
   "id": "251113d2",
   "metadata": {},
   "outputs": [
    {
     "name": "stdout",
     "output_type": "stream",
     "text": [
      "Epoch 1/150\n",
      "24/24 [==============================] - 1s 2ms/step - loss: 0.6913 - accuracy: 0.5307\n",
      "Epoch 2/150\n",
      "24/24 [==============================] - 0s 2ms/step - loss: 0.6913 - accuracy: 0.5307\n",
      "Epoch 3/150\n",
      "24/24 [==============================] - 0s 2ms/step - loss: 0.6913 - accuracy: 0.5307\n",
      "Epoch 4/150\n",
      "24/24 [==============================] - 0s 2ms/step - loss: 0.6913 - accuracy: 0.5307\n",
      "Epoch 5/150\n",
      "24/24 [==============================] - 0s 2ms/step - loss: 0.6913 - accuracy: 0.5307\n",
      "Epoch 6/150\n",
      "24/24 [==============================] - 0s 2ms/step - loss: 0.6913 - accuracy: 0.5307\n",
      "Epoch 7/150\n",
      "24/24 [==============================] - 0s 2ms/step - loss: 0.6913 - accuracy: 0.5307\n",
      "Epoch 8/150\n",
      "24/24 [==============================] - 0s 2ms/step - loss: 0.6913 - accuracy: 0.5307\n",
      "Epoch 9/150\n",
      "24/24 [==============================] - 0s 2ms/step - loss: 0.6913 - accuracy: 0.5307\n",
      "Epoch 10/150\n",
      "24/24 [==============================] - 0s 2ms/step - loss: 0.6913 - accuracy: 0.5307\n",
      "Epoch 11/150\n",
      "24/24 [==============================] - 0s 2ms/step - loss: 0.6913 - accuracy: 0.5307\n",
      "Epoch 12/150\n",
      "24/24 [==============================] - 0s 2ms/step - loss: 0.6913 - accuracy: 0.5307\n",
      "Epoch 13/150\n",
      "24/24 [==============================] - 0s 2ms/step - loss: 0.6913 - accuracy: 0.5307\n",
      "Epoch 14/150\n",
      "24/24 [==============================] - 0s 2ms/step - loss: 0.6913 - accuracy: 0.5307\n",
      "Epoch 15/150\n",
      "24/24 [==============================] - 0s 2ms/step - loss: 0.6913 - accuracy: 0.5307\n",
      "Epoch 16/150\n",
      "24/24 [==============================] - 0s 2ms/step - loss: 0.6913 - accuracy: 0.5307\n",
      "Epoch 17/150\n",
      "24/24 [==============================] - 0s 2ms/step - loss: 0.6913 - accuracy: 0.5307\n",
      "Epoch 18/150\n",
      "24/24 [==============================] - 0s 2ms/step - loss: 0.6913 - accuracy: 0.5307\n",
      "Epoch 19/150\n",
      "24/24 [==============================] - 0s 2ms/step - loss: 0.6913 - accuracy: 0.5307\n",
      "Epoch 20/150\n",
      "24/24 [==============================] - 0s 2ms/step - loss: 0.6913 - accuracy: 0.5307\n",
      "Epoch 21/150\n",
      "24/24 [==============================] - 0s 2ms/step - loss: 0.6913 - accuracy: 0.5307\n",
      "Epoch 22/150\n",
      "24/24 [==============================] - 0s 2ms/step - loss: 0.6913 - accuracy: 0.5307\n",
      "Epoch 23/150\n",
      "24/24 [==============================] - 0s 2ms/step - loss: 0.6913 - accuracy: 0.5307\n",
      "Epoch 24/150\n",
      "24/24 [==============================] - 0s 2ms/step - loss: 0.6913 - accuracy: 0.5307\n",
      "Epoch 25/150\n",
      "24/24 [==============================] - 0s 2ms/step - loss: 0.6913 - accuracy: 0.5307\n",
      "Epoch 26/150\n",
      "24/24 [==============================] - 0s 2ms/step - loss: 0.6913 - accuracy: 0.5307\n",
      "Epoch 27/150\n",
      "24/24 [==============================] - 0s 2ms/step - loss: 0.6913 - accuracy: 0.5307\n",
      "Epoch 28/150\n",
      "24/24 [==============================] - 0s 2ms/step - loss: 0.6913 - accuracy: 0.5307\n",
      "Epoch 29/150\n",
      "24/24 [==============================] - 0s 2ms/step - loss: 0.6913 - accuracy: 0.5307\n",
      "Epoch 30/150\n",
      "24/24 [==============================] - 0s 2ms/step - loss: 0.6913 - accuracy: 0.5307\n",
      "Epoch 31/150\n",
      "24/24 [==============================] - 0s 2ms/step - loss: 0.6913 - accuracy: 0.5307\n",
      "Epoch 32/150\n",
      "24/24 [==============================] - 0s 2ms/step - loss: 0.6913 - accuracy: 0.5307\n",
      "Epoch 33/150\n",
      "24/24 [==============================] - 0s 2ms/step - loss: 0.6913 - accuracy: 0.5307\n",
      "Epoch 34/150\n",
      "24/24 [==============================] - 0s 2ms/step - loss: 0.6913 - accuracy: 0.5307\n",
      "Epoch 35/150\n",
      "24/24 [==============================] - 0s 2ms/step - loss: 0.6913 - accuracy: 0.5307\n",
      "Epoch 36/150\n",
      "24/24 [==============================] - 0s 2ms/step - loss: 0.6913 - accuracy: 0.5307\n",
      "Epoch 37/150\n",
      "24/24 [==============================] - 0s 2ms/step - loss: 0.6913 - accuracy: 0.5307\n",
      "Epoch 38/150\n",
      "24/24 [==============================] - 0s 2ms/step - loss: 0.6913 - accuracy: 0.5307\n",
      "Epoch 39/150\n",
      "24/24 [==============================] - 0s 2ms/step - loss: 0.6913 - accuracy: 0.5307\n",
      "Epoch 40/150\n",
      "24/24 [==============================] - 0s 2ms/step - loss: 0.6913 - accuracy: 0.5307\n",
      "Epoch 41/150\n",
      "24/24 [==============================] - 0s 2ms/step - loss: 0.6913 - accuracy: 0.5307\n",
      "Epoch 42/150\n",
      "24/24 [==============================] - 0s 2ms/step - loss: 0.6913 - accuracy: 0.5307\n",
      "Epoch 43/150\n",
      "24/24 [==============================] - 0s 2ms/step - loss: 0.6913 - accuracy: 0.5307\n",
      "Epoch 44/150\n",
      "24/24 [==============================] - 0s 2ms/step - loss: 0.6913 - accuracy: 0.5307\n",
      "Epoch 45/150\n",
      "24/24 [==============================] - 0s 2ms/step - loss: 0.6913 - accuracy: 0.5307\n",
      "Epoch 46/150\n",
      "24/24 [==============================] - 0s 2ms/step - loss: 0.6913 - accuracy: 0.5307\n",
      "Epoch 47/150\n",
      "24/24 [==============================] - 0s 2ms/step - loss: 0.6913 - accuracy: 0.5307\n",
      "Epoch 48/150\n",
      "24/24 [==============================] - 0s 2ms/step - loss: 0.6913 - accuracy: 0.5307\n",
      "Epoch 49/150\n",
      "24/24 [==============================] - 0s 2ms/step - loss: 0.6913 - accuracy: 0.5307\n",
      "Epoch 50/150\n",
      "24/24 [==============================] - 0s 2ms/step - loss: 0.6913 - accuracy: 0.5307\n",
      "Epoch 51/150\n",
      "24/24 [==============================] - 0s 2ms/step - loss: 0.6913 - accuracy: 0.5307\n",
      "Epoch 52/150\n",
      "24/24 [==============================] - 0s 2ms/step - loss: 0.6914 - accuracy: 0.5307\n",
      "Epoch 53/150\n",
      "24/24 [==============================] - 0s 2ms/step - loss: 0.6913 - accuracy: 0.5307\n",
      "Epoch 54/150\n",
      "24/24 [==============================] - 0s 2ms/step - loss: 0.6913 - accuracy: 0.5307\n",
      "Epoch 55/150\n",
      "24/24 [==============================] - 0s 2ms/step - loss: 0.6913 - accuracy: 0.5307\n",
      "Epoch 56/150\n",
      "24/24 [==============================] - 0s 2ms/step - loss: 0.6913 - accuracy: 0.5307\n",
      "Epoch 57/150\n",
      "24/24 [==============================] - 0s 2ms/step - loss: 0.6913 - accuracy: 0.5307\n",
      "Epoch 58/150\n",
      "24/24 [==============================] - 0s 2ms/step - loss: 0.6913 - accuracy: 0.5307\n",
      "Epoch 59/150\n",
      "24/24 [==============================] - 0s 2ms/step - loss: 0.6913 - accuracy: 0.5307\n",
      "Epoch 60/150\n",
      "24/24 [==============================] - 0s 2ms/step - loss: 0.6913 - accuracy: 0.5307\n",
      "Epoch 61/150\n",
      "24/24 [==============================] - 0s 2ms/step - loss: 0.6913 - accuracy: 0.5307\n",
      "Epoch 62/150\n",
      "24/24 [==============================] - 0s 2ms/step - loss: 0.6913 - accuracy: 0.5307\n",
      "Epoch 63/150\n",
      "24/24 [==============================] - 0s 2ms/step - loss: 0.6913 - accuracy: 0.5307\n",
      "Epoch 64/150\n",
      "24/24 [==============================] - 0s 2ms/step - loss: 0.6913 - accuracy: 0.5307\n",
      "Epoch 65/150\n",
      "24/24 [==============================] - 0s 2ms/step - loss: 0.6913 - accuracy: 0.5307\n",
      "Epoch 66/150\n",
      "24/24 [==============================] - 0s 2ms/step - loss: 0.6913 - accuracy: 0.5307\n",
      "Epoch 67/150\n",
      "24/24 [==============================] - 0s 2ms/step - loss: 0.6913 - accuracy: 0.5307\n",
      "Epoch 68/150\n",
      "24/24 [==============================] - 0s 2ms/step - loss: 0.6913 - accuracy: 0.5307\n",
      "Epoch 69/150\n",
      "24/24 [==============================] - 0s 2ms/step - loss: 0.6913 - accuracy: 0.5307\n",
      "Epoch 70/150\n",
      "24/24 [==============================] - 0s 2ms/step - loss: 0.6913 - accuracy: 0.5307\n",
      "Epoch 71/150\n",
      "24/24 [==============================] - 0s 2ms/step - loss: 0.6913 - accuracy: 0.5307\n",
      "Epoch 72/150\n",
      "24/24 [==============================] - 0s 2ms/step - loss: 0.6913 - accuracy: 0.5307\n",
      "Epoch 73/150\n",
      "24/24 [==============================] - 0s 2ms/step - loss: 0.6913 - accuracy: 0.5307\n",
      "Epoch 74/150\n",
      "24/24 [==============================] - 0s 2ms/step - loss: 0.6913 - accuracy: 0.5307\n",
      "Epoch 75/150\n",
      "24/24 [==============================] - 0s 2ms/step - loss: 0.6913 - accuracy: 0.5307\n",
      "Epoch 76/150\n",
      "24/24 [==============================] - 0s 2ms/step - loss: 0.6913 - accuracy: 0.5307\n",
      "Epoch 77/150\n",
      "24/24 [==============================] - 0s 2ms/step - loss: 0.6913 - accuracy: 0.5307\n",
      "Epoch 78/150\n",
      "24/24 [==============================] - 0s 2ms/step - loss: 0.6913 - accuracy: 0.5307\n",
      "Epoch 79/150\n",
      "24/24 [==============================] - 0s 2ms/step - loss: 0.6913 - accuracy: 0.5307\n",
      "Epoch 80/150\n",
      "24/24 [==============================] - 0s 2ms/step - loss: 0.6913 - accuracy: 0.5307\n",
      "Epoch 81/150\n",
      "24/24 [==============================] - 0s 2ms/step - loss: 0.6913 - accuracy: 0.5307\n",
      "Epoch 82/150\n",
      "24/24 [==============================] - 0s 2ms/step - loss: 0.6913 - accuracy: 0.5307\n",
      "Epoch 83/150\n"
     ]
    },
    {
     "name": "stdout",
     "output_type": "stream",
     "text": [
      "24/24 [==============================] - 0s 2ms/step - loss: 0.6913 - accuracy: 0.5307\n",
      "Epoch 84/150\n",
      "24/24 [==============================] - 0s 2ms/step - loss: 0.6913 - accuracy: 0.5307\n",
      "Epoch 85/150\n",
      "24/24 [==============================] - 0s 2ms/step - loss: 0.6913 - accuracy: 0.5307\n",
      "Epoch 86/150\n",
      "24/24 [==============================] - 0s 2ms/step - loss: 0.6913 - accuracy: 0.5307\n",
      "Epoch 87/150\n",
      "24/24 [==============================] - 0s 2ms/step - loss: 0.6913 - accuracy: 0.5307\n",
      "Epoch 88/150\n",
      "24/24 [==============================] - 0s 2ms/step - loss: 0.6913 - accuracy: 0.5307\n",
      "Epoch 89/150\n",
      "24/24 [==============================] - 0s 2ms/step - loss: 0.6913 - accuracy: 0.5307\n",
      "Epoch 90/150\n",
      "24/24 [==============================] - 0s 2ms/step - loss: 0.6913 - accuracy: 0.5307\n",
      "Epoch 91/150\n",
      "24/24 [==============================] - 0s 2ms/step - loss: 0.6913 - accuracy: 0.5307\n",
      "Epoch 92/150\n",
      "24/24 [==============================] - 0s 2ms/step - loss: 0.6914 - accuracy: 0.5307\n",
      "Epoch 93/150\n",
      "24/24 [==============================] - 0s 2ms/step - loss: 0.6913 - accuracy: 0.5307\n",
      "Epoch 94/150\n",
      "24/24 [==============================] - 0s 2ms/step - loss: 0.6913 - accuracy: 0.5307\n",
      "Epoch 95/150\n",
      "24/24 [==============================] - 0s 2ms/step - loss: 0.6913 - accuracy: 0.5307\n",
      "Epoch 96/150\n",
      "24/24 [==============================] - 0s 2ms/step - loss: 0.6913 - accuracy: 0.5307\n",
      "Epoch 97/150\n",
      "24/24 [==============================] - 0s 2ms/step - loss: 0.6913 - accuracy: 0.5307\n",
      "Epoch 98/150\n",
      "24/24 [==============================] - 0s 2ms/step - loss: 0.6913 - accuracy: 0.5307\n",
      "Epoch 99/150\n",
      "24/24 [==============================] - 0s 2ms/step - loss: 0.6913 - accuracy: 0.5307\n",
      "Epoch 100/150\n",
      "24/24 [==============================] - 0s 2ms/step - loss: 0.6913 - accuracy: 0.5307\n",
      "Epoch 101/150\n",
      "24/24 [==============================] - 0s 2ms/step - loss: 0.6913 - accuracy: 0.5307\n",
      "Epoch 102/150\n",
      "24/24 [==============================] - 0s 2ms/step - loss: 0.6913 - accuracy: 0.5307\n",
      "Epoch 103/150\n",
      "24/24 [==============================] - 0s 2ms/step - loss: 0.6913 - accuracy: 0.5307\n",
      "Epoch 104/150\n",
      "24/24 [==============================] - 0s 2ms/step - loss: 0.6913 - accuracy: 0.5307\n",
      "Epoch 105/150\n",
      "24/24 [==============================] - 0s 2ms/step - loss: 0.6913 - accuracy: 0.5307\n",
      "Epoch 106/150\n",
      "24/24 [==============================] - 0s 2ms/step - loss: 0.6913 - accuracy: 0.5307\n",
      "Epoch 107/150\n",
      "24/24 [==============================] - 0s 2ms/step - loss: 0.6913 - accuracy: 0.5307\n",
      "Epoch 108/150\n",
      "24/24 [==============================] - 0s 2ms/step - loss: 0.6913 - accuracy: 0.5307\n",
      "Epoch 109/150\n",
      "24/24 [==============================] - 0s 2ms/step - loss: 0.6913 - accuracy: 0.5307\n",
      "Epoch 110/150\n",
      "24/24 [==============================] - 0s 2ms/step - loss: 0.6913 - accuracy: 0.5307\n",
      "Epoch 111/150\n",
      "24/24 [==============================] - 0s 2ms/step - loss: 0.6913 - accuracy: 0.5307\n",
      "Epoch 112/150\n",
      "24/24 [==============================] - 0s 2ms/step - loss: 0.6913 - accuracy: 0.5307\n",
      "Epoch 113/150\n",
      "24/24 [==============================] - 0s 2ms/step - loss: 0.6913 - accuracy: 0.5307\n",
      "Epoch 114/150\n",
      "24/24 [==============================] - 0s 2ms/step - loss: 0.6913 - accuracy: 0.5307\n",
      "Epoch 115/150\n",
      "24/24 [==============================] - 0s 2ms/step - loss: 0.6913 - accuracy: 0.5307\n",
      "Epoch 116/150\n",
      "24/24 [==============================] - 0s 2ms/step - loss: 0.6913 - accuracy: 0.5307\n",
      "Epoch 117/150\n",
      "24/24 [==============================] - 0s 2ms/step - loss: 0.6913 - accuracy: 0.5307\n",
      "Epoch 118/150\n",
      "24/24 [==============================] - 0s 2ms/step - loss: 0.6913 - accuracy: 0.5307\n",
      "Epoch 119/150\n",
      "24/24 [==============================] - 0s 2ms/step - loss: 0.6913 - accuracy: 0.5307\n",
      "Epoch 120/150\n",
      "24/24 [==============================] - 0s 2ms/step - loss: 0.6913 - accuracy: 0.5307\n",
      "Epoch 121/150\n",
      "24/24 [==============================] - 0s 2ms/step - loss: 0.6913 - accuracy: 0.5307\n",
      "Epoch 122/150\n",
      "24/24 [==============================] - 0s 2ms/step - loss: 0.6913 - accuracy: 0.5307\n",
      "Epoch 123/150\n",
      "24/24 [==============================] - 0s 2ms/step - loss: 0.6913 - accuracy: 0.5307\n",
      "Epoch 124/150\n",
      "24/24 [==============================] - 0s 2ms/step - loss: 0.6913 - accuracy: 0.5307\n",
      "Epoch 125/150\n",
      "24/24 [==============================] - 0s 2ms/step - loss: 0.6914 - accuracy: 0.5307\n",
      "Epoch 126/150\n",
      "24/24 [==============================] - 0s 2ms/step - loss: 0.6913 - accuracy: 0.5307\n",
      "Epoch 127/150\n",
      "24/24 [==============================] - 0s 2ms/step - loss: 0.6913 - accuracy: 0.5307\n",
      "Epoch 128/150\n",
      "24/24 [==============================] - 0s 2ms/step - loss: 0.6913 - accuracy: 0.5307\n",
      "Epoch 129/150\n",
      "24/24 [==============================] - 0s 2ms/step - loss: 0.6913 - accuracy: 0.5307\n",
      "Epoch 130/150\n",
      "24/24 [==============================] - 0s 2ms/step - loss: 0.6913 - accuracy: 0.5307\n",
      "Epoch 131/150\n",
      "24/24 [==============================] - 0s 2ms/step - loss: 0.6913 - accuracy: 0.5307\n",
      "Epoch 132/150\n",
      "24/24 [==============================] - 0s 2ms/step - loss: 0.6913 - accuracy: 0.5307\n",
      "Epoch 133/150\n",
      "24/24 [==============================] - 0s 2ms/step - loss: 0.6913 - accuracy: 0.5307\n",
      "Epoch 134/150\n",
      "24/24 [==============================] - 0s 2ms/step - loss: 0.6913 - accuracy: 0.5307\n",
      "Epoch 135/150\n",
      "24/24 [==============================] - 0s 2ms/step - loss: 0.6913 - accuracy: 0.5307\n",
      "Epoch 136/150\n",
      "24/24 [==============================] - 0s 2ms/step - loss: 0.6913 - accuracy: 0.5307\n",
      "Epoch 137/150\n",
      "24/24 [==============================] - 0s 2ms/step - loss: 0.6913 - accuracy: 0.5307\n",
      "Epoch 138/150\n",
      "24/24 [==============================] - 0s 2ms/step - loss: 0.6913 - accuracy: 0.5307\n",
      "Epoch 139/150\n",
      "24/24 [==============================] - 0s 2ms/step - loss: 0.6913 - accuracy: 0.5307\n",
      "Epoch 140/150\n",
      "24/24 [==============================] - 0s 2ms/step - loss: 0.6913 - accuracy: 0.5307\n",
      "Epoch 141/150\n",
      "24/24 [==============================] - 0s 2ms/step - loss: 0.6913 - accuracy: 0.5307\n",
      "Epoch 142/150\n",
      "24/24 [==============================] - 0s 2ms/step - loss: 0.6913 - accuracy: 0.5307\n",
      "Epoch 143/150\n",
      "24/24 [==============================] - 0s 2ms/step - loss: 0.6913 - accuracy: 0.5307\n",
      "Epoch 144/150\n",
      "24/24 [==============================] - 0s 2ms/step - loss: 0.6913 - accuracy: 0.5307\n",
      "Epoch 145/150\n",
      "24/24 [==============================] - 0s 2ms/step - loss: 0.6913 - accuracy: 0.5307\n",
      "Epoch 146/150\n",
      "24/24 [==============================] - 0s 2ms/step - loss: 0.6913 - accuracy: 0.5307\n",
      "Epoch 147/150\n",
      "24/24 [==============================] - 0s 2ms/step - loss: 0.6913 - accuracy: 0.5307\n",
      "Epoch 148/150\n",
      "24/24 [==============================] - 0s 2ms/step - loss: 0.6913 - accuracy: 0.5307\n",
      "Epoch 149/150\n",
      "24/24 [==============================] - 0s 2ms/step - loss: 0.6914 - accuracy: 0.5307\n",
      "Epoch 150/150\n",
      "24/24 [==============================] - 0s 2ms/step - loss: 0.6913 - accuracy: 0.5307\n"
     ]
    }
   ],
   "source": [
    "# Compile the Sequential model together and customize metrics\n",
    "new_model.compile(loss=\"binary_crossentropy\", optimizer=\"adam\", metrics=[\"accuracy\"])\n",
    "\n",
    "# Fit the model to the training data\n",
    "new_fit_model = new_model.fit(X_moon_train_scaled, y_moon_train, epochs=150, shuffle=True)\n"
   ]
  },
  {
   "cell_type": "code",
   "execution_count": 101,
   "id": "c70fd8a2",
   "metadata": {},
   "outputs": [
    {
     "data": {
      "text/html": [
       "<div>\n",
       "<style scoped>\n",
       "    .dataframe tbody tr th:only-of-type {\n",
       "        vertical-align: middle;\n",
       "    }\n",
       "\n",
       "    .dataframe tbody tr th {\n",
       "        vertical-align: top;\n",
       "    }\n",
       "\n",
       "    .dataframe thead th {\n",
       "        text-align: right;\n",
       "    }\n",
       "</style>\n",
       "<table border=\"1\" class=\"dataframe\">\n",
       "  <thead>\n",
       "    <tr style=\"text-align: right;\">\n",
       "      <th></th>\n",
       "      <th>Feature 1</th>\n",
       "      <th>Feature 2</th>\n",
       "      <th>Target</th>\n",
       "    </tr>\n",
       "  </thead>\n",
       "  <tbody>\n",
       "    <tr>\n",
       "      <th>0</th>\n",
       "      <td>0.676217</td>\n",
       "      <td>0.815220</td>\n",
       "      <td>0</td>\n",
       "    </tr>\n",
       "    <tr>\n",
       "      <th>1</th>\n",
       "      <td>1.487143</td>\n",
       "      <td>-0.210519</td>\n",
       "      <td>1</td>\n",
       "    </tr>\n",
       "    <tr>\n",
       "      <th>2</th>\n",
       "      <td>-1.027709</td>\n",
       "      <td>0.354966</td>\n",
       "      <td>0</td>\n",
       "    </tr>\n",
       "    <tr>\n",
       "      <th>3</th>\n",
       "      <td>0.236012</td>\n",
       "      <td>1.025531</td>\n",
       "      <td>0</td>\n",
       "    </tr>\n",
       "    <tr>\n",
       "      <th>4</th>\n",
       "      <td>1.856695</td>\n",
       "      <td>-0.042783</td>\n",
       "      <td>1</td>\n",
       "    </tr>\n",
       "  </tbody>\n",
       "</table>\n",
       "</div>"
      ],
      "text/plain": [
       "   Feature 1  Feature 2  Target\n",
       "0   0.676217   0.815220       0\n",
       "1   1.487143  -0.210519       1\n",
       "2  -1.027709   0.354966       0\n",
       "3   0.236012   1.025531       0\n",
       "4   1.856695  -0.042783       1"
      ]
     },
     "execution_count": 101,
     "metadata": {},
     "output_type": "execute_result"
    }
   ],
   "source": [
    "df_moons.head()\n"
   ]
  },
  {
   "cell_type": "code",
   "execution_count": 102,
   "id": "0c8f8607",
   "metadata": {},
   "outputs": [
    {
     "data": {
      "text/html": [
       "<div>\n",
       "<style scoped>\n",
       "    .dataframe tbody tr th:only-of-type {\n",
       "        vertical-align: middle;\n",
       "    }\n",
       "\n",
       "    .dataframe tbody tr th {\n",
       "        vertical-align: top;\n",
       "    }\n",
       "\n",
       "    .dataframe thead th {\n",
       "        text-align: right;\n",
       "    }\n",
       "</style>\n",
       "<table border=\"1\" class=\"dataframe\">\n",
       "  <thead>\n",
       "    <tr style=\"text-align: right;\">\n",
       "      <th></th>\n",
       "      <th>Feature 1</th>\n",
       "      <th>Feature 2</th>\n",
       "      <th>Target</th>\n",
       "    </tr>\n",
       "  </thead>\n",
       "  <tbody>\n",
       "    <tr>\n",
       "      <th>count</th>\n",
       "      <td>1000.000000</td>\n",
       "      <td>1000.000000</td>\n",
       "      <td>1000.00000</td>\n",
       "    </tr>\n",
       "    <tr>\n",
       "      <th>mean</th>\n",
       "      <td>0.497459</td>\n",
       "      <td>0.249927</td>\n",
       "      <td>0.50000</td>\n",
       "    </tr>\n",
       "    <tr>\n",
       "      <th>std</th>\n",
       "      <td>0.867873</td>\n",
       "      <td>0.499273</td>\n",
       "      <td>0.50025</td>\n",
       "    </tr>\n",
       "    <tr>\n",
       "      <th>min</th>\n",
       "      <td>-1.183650</td>\n",
       "      <td>-0.718449</td>\n",
       "      <td>0.00000</td>\n",
       "    </tr>\n",
       "    <tr>\n",
       "      <th>25%</th>\n",
       "      <td>-0.062536</td>\n",
       "      <td>-0.206882</td>\n",
       "      <td>0.00000</td>\n",
       "    </tr>\n",
       "    <tr>\n",
       "      <th>50%</th>\n",
       "      <td>0.492127</td>\n",
       "      <td>0.249358</td>\n",
       "      <td>0.50000</td>\n",
       "    </tr>\n",
       "    <tr>\n",
       "      <th>75%</th>\n",
       "      <td>1.065532</td>\n",
       "      <td>0.701248</td>\n",
       "      <td>1.00000</td>\n",
       "    </tr>\n",
       "    <tr>\n",
       "      <th>max</th>\n",
       "      <td>2.156435</td>\n",
       "      <td>1.133889</td>\n",
       "      <td>1.00000</td>\n",
       "    </tr>\n",
       "  </tbody>\n",
       "</table>\n",
       "</div>"
      ],
      "text/plain": [
       "         Feature 1    Feature 2      Target\n",
       "count  1000.000000  1000.000000  1000.00000\n",
       "mean      0.497459     0.249927     0.50000\n",
       "std       0.867873     0.499273     0.50025\n",
       "min      -1.183650    -0.718449     0.00000\n",
       "25%      -0.062536    -0.206882     0.00000\n",
       "50%       0.492127     0.249358     0.50000\n",
       "75%       1.065532     0.701248     1.00000\n",
       "max       2.156435     1.133889     1.00000"
      ]
     },
     "execution_count": 102,
     "metadata": {},
     "output_type": "execute_result"
    }
   ],
   "source": [
    "df_moons.describe()"
   ]
  },
  {
   "cell_type": "code",
   "execution_count": 65,
   "id": "187748f1",
   "metadata": {},
   "outputs": [
    {
     "ename": "ValueError",
     "evalue": "Dimensions of labels and X must be compatible",
     "output_type": "error",
     "traceback": [
      "\u001b[1;31m---------------------------------------------------------------------------\u001b[0m",
      "\u001b[1;31mValueError\u001b[0m                                Traceback (most recent call last)",
      "\u001b[1;32m<ipython-input-65-2bb80b8e138c>\u001b[0m in \u001b[0;36m<module>\u001b[1;34m\u001b[0m\n\u001b[0;32m      5\u001b[0m \u001b[0mx_labels\u001b[0m \u001b[1;33m=\u001b[0m \u001b[1;33m[\u001b[0m\u001b[1;34m\"Feature1\"\u001b[0m\u001b[1;33m]\u001b[0m\u001b[1;33m\u001b[0m\u001b[1;33m\u001b[0m\u001b[0m\n\u001b[0;32m      6\u001b[0m \u001b[0mfig\u001b[0m\u001b[1;33m,\u001b[0m \u001b[0max\u001b[0m \u001b[1;33m=\u001b[0m \u001b[0mpyp\u001b[0m\u001b[1;33m.\u001b[0m\u001b[0msubplots\u001b[0m\u001b[1;33m(\u001b[0m\u001b[1;33m)\u001b[0m\u001b[1;33m\u001b[0m\u001b[1;33m\u001b[0m\u001b[0m\n\u001b[1;32m----> 7\u001b[1;33m \u001b[0max\u001b[0m\u001b[1;33m.\u001b[0m\u001b[0mboxplot\u001b[0m\u001b[1;33m(\u001b[0m\u001b[0mdf_moons\u001b[0m\u001b[1;33m,\u001b[0m \u001b[0mlabels\u001b[0m\u001b[1;33m=\u001b[0m\u001b[0mx_labels\u001b[0m\u001b[1;33m)\u001b[0m\u001b[1;33m\u001b[0m\u001b[1;33m\u001b[0m\u001b[0m\n\u001b[0m\u001b[0;32m      8\u001b[0m \u001b[1;31m# Add the title, y-axis label and grid.\u001b[0m\u001b[1;33m\u001b[0m\u001b[1;33m\u001b[0m\u001b[1;33m\u001b[0m\u001b[0m\n\u001b[0;32m      9\u001b[0m \u001b[0max\u001b[0m\u001b[1;33m.\u001b[0m\u001b[0mset_title\u001b[0m\u001b[1;33m(\u001b[0m\u001b[1;34m'Findind outliers'\u001b[0m\u001b[1;33m)\u001b[0m\u001b[1;33m\u001b[0m\u001b[1;33m\u001b[0m\u001b[0m\n",
      "\u001b[1;32m~\\anaconda3\\envs\\mlenv\\lib\\site-packages\\matplotlib\\__init__.py\u001b[0m in \u001b[0;36minner\u001b[1;34m(ax, data, *args, **kwargs)\u001b[0m\n\u001b[0;32m   1445\u001b[0m     \u001b[1;32mdef\u001b[0m \u001b[0minner\u001b[0m\u001b[1;33m(\u001b[0m\u001b[0max\u001b[0m\u001b[1;33m,\u001b[0m \u001b[1;33m*\u001b[0m\u001b[0margs\u001b[0m\u001b[1;33m,\u001b[0m \u001b[0mdata\u001b[0m\u001b[1;33m=\u001b[0m\u001b[1;32mNone\u001b[0m\u001b[1;33m,\u001b[0m \u001b[1;33m**\u001b[0m\u001b[0mkwargs\u001b[0m\u001b[1;33m)\u001b[0m\u001b[1;33m:\u001b[0m\u001b[1;33m\u001b[0m\u001b[1;33m\u001b[0m\u001b[0m\n\u001b[0;32m   1446\u001b[0m         \u001b[1;32mif\u001b[0m \u001b[0mdata\u001b[0m \u001b[1;32mis\u001b[0m \u001b[1;32mNone\u001b[0m\u001b[1;33m:\u001b[0m\u001b[1;33m\u001b[0m\u001b[1;33m\u001b[0m\u001b[0m\n\u001b[1;32m-> 1447\u001b[1;33m             \u001b[1;32mreturn\u001b[0m \u001b[0mfunc\u001b[0m\u001b[1;33m(\u001b[0m\u001b[0max\u001b[0m\u001b[1;33m,\u001b[0m \u001b[1;33m*\u001b[0m\u001b[0mmap\u001b[0m\u001b[1;33m(\u001b[0m\u001b[0msanitize_sequence\u001b[0m\u001b[1;33m,\u001b[0m \u001b[0margs\u001b[0m\u001b[1;33m)\u001b[0m\u001b[1;33m,\u001b[0m \u001b[1;33m**\u001b[0m\u001b[0mkwargs\u001b[0m\u001b[1;33m)\u001b[0m\u001b[1;33m\u001b[0m\u001b[1;33m\u001b[0m\u001b[0m\n\u001b[0m\u001b[0;32m   1448\u001b[0m \u001b[1;33m\u001b[0m\u001b[0m\n\u001b[0;32m   1449\u001b[0m         \u001b[0mbound\u001b[0m \u001b[1;33m=\u001b[0m \u001b[0mnew_sig\u001b[0m\u001b[1;33m.\u001b[0m\u001b[0mbind\u001b[0m\u001b[1;33m(\u001b[0m\u001b[0max\u001b[0m\u001b[1;33m,\u001b[0m \u001b[1;33m*\u001b[0m\u001b[0margs\u001b[0m\u001b[1;33m,\u001b[0m \u001b[1;33m**\u001b[0m\u001b[0mkwargs\u001b[0m\u001b[1;33m)\u001b[0m\u001b[1;33m\u001b[0m\u001b[1;33m\u001b[0m\u001b[0m\n",
      "\u001b[1;32m~\\anaconda3\\envs\\mlenv\\lib\\site-packages\\matplotlib\\axes\\_axes.py\u001b[0m in \u001b[0;36mboxplot\u001b[1;34m(self, x, notch, sym, vert, whis, positions, widths, patch_artist, bootstrap, usermedians, conf_intervals, meanline, showmeans, showcaps, showbox, showfliers, boxprops, labels, flierprops, medianprops, meanprops, capprops, whiskerprops, manage_ticks, autorange, zorder)\u001b[0m\n\u001b[0;32m   3682\u001b[0m \u001b[1;33m\u001b[0m\u001b[0m\n\u001b[0;32m   3683\u001b[0m         bxpstats = cbook.boxplot_stats(x, whis=whis, bootstrap=bootstrap,\n\u001b[1;32m-> 3684\u001b[1;33m                                        labels=labels, autorange=autorange)\n\u001b[0m\u001b[0;32m   3685\u001b[0m         \u001b[1;32mif\u001b[0m \u001b[0mnotch\u001b[0m \u001b[1;32mis\u001b[0m \u001b[1;32mNone\u001b[0m\u001b[1;33m:\u001b[0m\u001b[1;33m\u001b[0m\u001b[1;33m\u001b[0m\u001b[0m\n\u001b[0;32m   3686\u001b[0m             \u001b[0mnotch\u001b[0m \u001b[1;33m=\u001b[0m \u001b[0mrcParams\u001b[0m\u001b[1;33m[\u001b[0m\u001b[1;34m'boxplot.notch'\u001b[0m\u001b[1;33m]\u001b[0m\u001b[1;33m\u001b[0m\u001b[1;33m\u001b[0m\u001b[0m\n",
      "\u001b[1;32m~\\anaconda3\\envs\\mlenv\\lib\\site-packages\\matplotlib\\cbook\\__init__.py\u001b[0m in \u001b[0;36mboxplot_stats\u001b[1;34m(X, whis, bootstrap, labels, autorange)\u001b[0m\n\u001b[0;32m   1141\u001b[0m         \u001b[0mlabels\u001b[0m \u001b[1;33m=\u001b[0m \u001b[0mitertools\u001b[0m\u001b[1;33m.\u001b[0m\u001b[0mrepeat\u001b[0m\u001b[1;33m(\u001b[0m\u001b[1;32mNone\u001b[0m\u001b[1;33m)\u001b[0m\u001b[1;33m\u001b[0m\u001b[1;33m\u001b[0m\u001b[0m\n\u001b[0;32m   1142\u001b[0m     \u001b[1;32melif\u001b[0m \u001b[0mlen\u001b[0m\u001b[1;33m(\u001b[0m\u001b[0mlabels\u001b[0m\u001b[1;33m)\u001b[0m \u001b[1;33m!=\u001b[0m \u001b[0mncols\u001b[0m\u001b[1;33m:\u001b[0m\u001b[1;33m\u001b[0m\u001b[1;33m\u001b[0m\u001b[0m\n\u001b[1;32m-> 1143\u001b[1;33m         \u001b[1;32mraise\u001b[0m \u001b[0mValueError\u001b[0m\u001b[1;33m(\u001b[0m\u001b[1;34m\"Dimensions of labels and X must be compatible\"\u001b[0m\u001b[1;33m)\u001b[0m\u001b[1;33m\u001b[0m\u001b[1;33m\u001b[0m\u001b[0m\n\u001b[0m\u001b[0;32m   1144\u001b[0m \u001b[1;33m\u001b[0m\u001b[0m\n\u001b[0;32m   1145\u001b[0m     \u001b[0minput_whis\u001b[0m \u001b[1;33m=\u001b[0m \u001b[0mwhis\u001b[0m\u001b[1;33m\u001b[0m\u001b[1;33m\u001b[0m\u001b[0m\n",
      "\u001b[1;31mValueError\u001b[0m: Dimensions of labels and X must be compatible"
     ]
    },
    {
     "data": {
      "image/png": "[encoded data removed]",
      "text/plain": [
       "<Figure size 432x288 with 1 Axes>"
      ]
     },
     "metadata": {
      "needs_background": "light"
     },
     "output_type": "display_data"
    }
   ],
   "source": [
    "import matplotlib.pyplot as pyp\n",
    "\n",
    "%matplotlib inline\n",
    "# Create a box-and-whisker plot for the urban cities ride count.\n",
    "x_labels = [\"Feature1\"]\n",
    "fig, ax = pyp.subplots()\n",
    "ax.boxplot(df_moons, labels=x_labels)\n",
    "# Add the title, y-axis label and grid.\n",
    "ax.set_title('Findind outliers')\n",
    "ax.set_ylabel('weight')\n",
    "ax.set_yticks(np.arange(-2, 2.5, step=0.2))\n",
    "ax.grid()\n",
    "pyp.show()"
   ]
  },
  {
   "cell_type": "code",
   "execution_count": 70,
   "id": "25b73d73",
   "metadata": {},
   "outputs": [
    {
     "data": {
      "text/plain": [
       "<AxesSubplot:xlabel='Feature 1', ylabel='Feature 2'>"
      ]
     },
     "execution_count": 70,
     "metadata": {},
     "output_type": "execute_result"
    },
    {
     "data": {
      "image/png": "[encoded data removed]",
      "text/plain": [
       "<Figure size 432x288 with 2 Axes>"
      ]
     },
     "metadata": {
      "needs_background": "light"
     },
     "output_type": "display_data"
    }
   ],
   "source": [
    "from sklearn.datasets import make_circles\n",
    "X_circles, y_circles = make_circles(n_samples=100, shuffle=True, noise=None, random_state=None, factor=0.8)\n",
    "\n",
    "# Creating a DataFrame to plot the nonlinear dummy data\n",
    "df_circles = pd.DataFrame(X_circles, columns=[\"Feature 1\", \"Feature 2\"])\n",
    "df_circles[\"Target\"] = y_circles\n",
    "\n",
    "# Plotting the dummy data\n",
    "df.plot.scatter(x=\"Feature 1\", y=\"Feature 2\", c=\"Target\", colormap=\"winter\")"
   ]
  },
  {
   "cell_type": "code",
   "execution_count": 73,
   "id": "a5e394f8",
   "metadata": {},
   "outputs": [
    {
     "data": {
      "image/png": "[encoded data removed]",
      "text/plain": [
       "<Figure size 432x288 with 2 Axes>"
      ]
     },
     "metadata": {
      "needs_background": "light"
     },
     "output_type": "display_data"
    }
   ],
   "source": [
    "import numpy as np\n",
    "import matplotlib.pyplot as plt\n",
    "\n",
    "from sklearn.decomposition import PCA, KernelPCA\n",
    "from sklearn.datasets import make_circles\n",
    "\n",
    "np.random.seed(0)\n",
    "\n",
    "X, y = make_circles(n_samples=400, factor=.3, noise=.05)\n",
    "\n",
    "kpca = KernelPCA(kernel=\"rbf\", fit_inverse_transform=True, gamma=10)\n",
    "X_kpca = kpca.fit_transform(X)\n",
    "X_back = kpca.inverse_transform(X_kpca)\n",
    "pca = PCA()\n",
    "X_pca = pca.fit_transform(X)\n",
    "\n",
    "# Plot results\n",
    "\n",
    "plt.figure()\n",
    "plt.subplot(2, 2, 1, aspect='equal')\n",
    "plt.title(\"Original space\")\n",
    "reds = y == 0\n",
    "blues = y == 1\n",
    "\n",
    "plt.scatter(X[reds, 0], X[reds, 1], c=\"red\",\n",
    "            s=20, edgecolor='k')\n",
    "plt.scatter(X[blues, 0], X[blues, 1], c=\"blue\",\n",
    "            s=20, edgecolor='k')\n",
    "plt.xlabel(\"$x_1$\")\n",
    "plt.ylabel(\"$x_2$\")\n",
    "\n",
    "X1, X2 = np.meshgrid(np.linspace(-1.5, 1.5, 50), np.linspace(-1.5, 1.5, 50))\n",
    "X_grid = np.array([np.ravel(X1), np.ravel(X2)]).T\n",
    "# projection on the first principal component (in the phi space)\n",
    "Z_grid = kpca.transform(X_grid)[:, 0].reshape(X1.shape)\n",
    "plt.contour(X1, X2, Z_grid, colors='grey', linewidths=1, origin='lower')\n",
    "\n",
    "plt.subplot(2, 2, 2, aspect='equal')\n",
    "plt.scatter(X_pca[reds, 0], X_pca[reds, 1], c=\"red\",\n",
    "            s=20, edgecolor='k')\n",
    "plt.scatter(X_pca[blues, 0], X_pca[blues, 1], c=\"blue\",\n",
    "            s=20, edgecolor='k')\n",
    "plt.title(\"Projection by PCA\")\n",
    "plt.xlabel(\"1st principal component\")\n",
    "plt.ylabel(\"2nd component\")\n",
    "\n",
    "\n",
    "\n",
    "# plt.tight_layout()\n",
    "plt.show()"
   ]
  },
  {
   "cell_type": "code",
   "execution_count": null,
   "id": "9f379ca6",
   "metadata": {},
   "outputs": [],
   "source": []
  }
 ],
 "metadata": {
  "kernelspec": {
   "display_name": "Python 3",
   "language": "python",
   "name": "python3"
  },
  "language_info": {
   "codemirror_mode": {
    "name": "ipython",
    "version": 3
   },
   "file_extension": ".py",
   "mimetype": "text/x-python",
   "name": "python",
   "nbconvert_exporter": "python",
   "pygments_lexer": "ipython3",
   "version": "3.7.10"
  }
 },
 "nbformat": 4,
 "nbformat_minor": 5
}
